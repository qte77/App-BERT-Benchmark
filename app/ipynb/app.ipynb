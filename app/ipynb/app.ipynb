{
 "cells": [
  {
   "cell_type": "markdown",
   "id": "24154d2c",
   "metadata": {},
   "source": [
    "# BERT Benchmarking"
   ]
  },
  {
   "cell_type": "code",
   "execution_count": null,
   "id": "c46e8e94",
   "metadata": {},
   "outputs": [],
   "source": [
    "\"\"\"Entrypoint of the app.\"\"\""
   ]
  },
  {
   "cell_type": "markdown",
   "id": "d8a7bc16",
   "metadata": {},
   "source": [
    "## Pre-Requisites"
   ]
  },
  {
   "cell_type": "code",
   "execution_count": null,
   "id": "7658aac6",
   "metadata": {
    "lines_to_next_cell": 1
   },
   "outputs": [],
   "source": [
    "# ### Import modules\n",
    "from sys import exit\n",
    "\n",
    "from _version import __version__\n",
    "from helper.load_save_hf import load_and_save_model, load_and_save_dataset, \\\n",
    "    load_and_save_tokenizer, load_and_save_metrics"
   ]
  },
  {
   "cell_type": "markdown",
   "id": "80711176",
   "metadata": {},
   "source": [
    "## Papermill parameters\n",
    "### PM Start in the following code cell"
   ]
  },
  {
   "cell_type": "code",
   "execution_count": null,
   "id": "f313abbd",
   "metadata": {
    "tags": [
     "parameters"
    ]
   },
   "outputs": [],
   "source": []
  },
  {
   "cell_type": "markdown",
   "id": "d29d3125",
   "metadata": {},
   "source": [
    "### PM Parameters End"
   ]
  },
  {
   "cell_type": "code",
   "execution_count": null,
   "id": "f662fd75",
   "metadata": {
    "lines_to_next_cell": 1
   },
   "outputs": [],
   "source": [
    "class App():\n",
    "    '''\n",
    "    '''\n",
    "\n",
    "# main = launch_new_instance = App.launch_instance"
   ]
  },
  {
   "cell_type": "code",
   "execution_count": null,
   "id": "64ee4834",
   "metadata": {},
   "outputs": [],
   "source": [
    "if __name__ == \"__main__\":\n",
    "    # main()\n",
    "    exit(App.launch_instance)"
   ]
  }
 ],
 "metadata": {
  "jupytext": {
   "executable": "/usr/bin/env python",
   "main_language": "python"
  },
  "kernelspec": {
   "display_name": "Python 3",
   "name": "python3"
  }
 },
 "nbformat": 4,
 "nbformat_minor": 5
}
