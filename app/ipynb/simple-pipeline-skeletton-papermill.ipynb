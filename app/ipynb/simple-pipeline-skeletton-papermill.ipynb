{
 "cells": [
  {
   "cell_type": "markdown",
   "id": "5fa7d071",
   "metadata": {},
   "source": [
    "# Simple pipeline in Colab\n",
    "## TODO ToC"
   ]
  },
  {
   "cell_type": "code",
   "execution_count": null,
   "id": "51a2057c",
   "metadata": {},
   "outputs": [],
   "source": [
    "from sys import executable\n",
    "from os import chdir\n",
    "from google.colab.drive import mount"
   ]
  },
  {
   "cell_type": "code",
   "execution_count": null,
   "id": "508d5d59",
   "metadata": {},
   "outputs": [],
   "source": [
    "gdrive = '/gdrive'"
   ]
  },
  {
   "cell_type": "code",
   "execution_count": null,
   "id": "13012ea1",
   "metadata": {},
   "outputs": [],
   "source": [
    "mount(gdrive)"
   ]
  },
  {
   "cell_type": "code",
   "execution_count": null,
   "id": "bed14b5c",
   "metadata": {},
   "outputs": [],
   "source": [
    "%%shell\n",
    "#!/bin/bash\n",
    "\n",
    "project_file=\"\" #full path to this file, ex ext\n",
    "converted_path=\"${project_file}\" #if file with ext: //.ipynb/\n",
    "outfile=\"${converted_path}.py\"\n",
    "\n",
    "mkdir -p $converted_path\n",
    "\n",
    "{executable} -m jupyter nbconvert --to python --output=$outfile --output-dir=$converted_path $project_file\n",
    "{executable} -m $outfile"
   ]
  }
 ],
 "metadata": {
  "language_info": {
   "name": "python"
  }
 },
 "nbformat": 4,
 "nbformat_minor": 5
}
